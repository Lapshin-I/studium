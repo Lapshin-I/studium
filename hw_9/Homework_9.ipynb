{
 "cells": [
  {
   "cell_type": "markdown",
   "metadata": {},
   "source": [
    "# Домашнее задание к лекции \"Регулярные выражения\"\n",
    "\n",
    "Внимание! При реализации всех заданий необходимо использовать именно функционал регулярных выражений для обработки текста."
   ]
  },
  {
   "cell_type": "code",
   "execution_count": 69,
   "metadata": {},
   "outputs": [],
   "source": [
    "import re"
   ]
  },
  {
   "cell_type": "markdown",
   "metadata": {},
   "source": [
    "## Задание 1\n",
    "\n",
    "Напишите функцию, которая принимает на вход строку и проверяет является ли она валидным транспортным номером (1 буква, 3 цифры, 2 буквы, 2-3 цифры). Обратите внимание, что не все буквы кириллического алфавита используются в транспортных номерах.\n",
    "\n",
    "Если номер валиден, то функция должна возвращать отдельно номер и регион. <br>\n",
    "Примеры работы программы:  \n",
    "\n",
    "1. `car_id = 'АВ222С96'`\n",
    "\n",
    "Результат: \n",
    "`Номер АВ222С валиден. Регион: 96`\n",
    "\n",
    "2. `car_id = 'АБ22ВВ193'`\n",
    "\n",
    "Результат: \n",
    "`Номер не валиден`"
   ]
  },
  {
   "cell_type": "code",
   "execution_count": 171,
   "metadata": {},
   "outputs": [],
   "source": [
    "def car_id_validation (car_id):\n",
    "    # создаём шаблон регулярного выражения:\n",
    "    car_id_pattern_validation = r'([А-Я]{2}[0-9]{3}[А-Я]{1}[0-9]{2,3})$'\n",
    "    # передаём введённый номер на валидацию:\n",
    "    car_id_str = re.match(car_id_pattern_validation, car_id)\n",
    "\n",
    "    # создаём шаблон РВ, которым изменим вывод данных:\n",
    "    car_id_new_pattern = r'([А-Я]{2}[0-9]{3}[А-Я]{1})([0-9]{2,3})'\n",
    "    # создаём шаблон вывода для валидированных данных:\n",
    "    output_format = re.sub(car_id_new_pattern, r'Номер \\1 валиден. Регион: \\2', car_id)\n",
    "\n",
    "    # проверяем значение на валидность:\n",
    "    if car_id_str is None:\n",
    "        print(\"Номер не валиден\")\n",
    "    else: print(output_format)"
   ]
  },
  {
   "cell_type": "markdown",
   "metadata": {},
   "source": [
    "#### Проверка:"
   ]
  },
  {
   "cell_type": "code",
   "execution_count": 176,
   "metadata": {},
   "outputs": [
    {
     "name": "stdout",
     "output_type": "stream",
     "text": [
      "Номер АВ222С валиден. Регион: 96\n",
      "Номер не валиден\n"
     ]
    }
   ],
   "source": [
    "x = car_id_validation('АВ222С96')\n",
    "y = car_id_validation('АБ22ВВ193')"
   ]
  },
  {
   "cell_type": "markdown",
   "metadata": {},
   "source": [
    "## Задание 2\n",
    "\n",
    "Напишите функцию, которая будет удалять все последовательные повторы слов из заданной строки при помощи регулярных выражений. <br>\n",
    "Пример работы программы:  \n",
    "\n",
    "`some_string = 'Напишите функцию функцию, которая будет будет будет будет удалять все все все все последовательные повторы слов из из из из заданной строки строки при помощи регулярных выражений'`\n",
    "\n",
    "Результат: \n",
    "`Напишите функцию, которая будет удалять все последовательные повторы слов из заданной строки при помощи регулярных выражений.`"
   ]
  },
  {
   "cell_type": "code",
   "execution_count": 209,
   "metadata": {},
   "outputs": [],
   "source": [
    "some_string = 'Напишите функцию функцию, которая будет будет будет будет удалять все все все все последовательные повторы слов из из из из заданной строки строки при помощи регулярных выражений'"
   ]
  },
  {
   "cell_type": "code",
   "execution_count": 210,
   "metadata": {},
   "outputs": [],
   "source": [
    "def duplicates_remove (text_string):\n",
    "    # создаём шаблон регулярного выражения:\n",
    "    word_select = r'\\b([^\\W\\d_]+)(\\s+\\1)+\\b'\n",
    "    # удаляем замену повторяющиеся замены:\n",
    "    remove_duplicates = re.sub(word_select, r'\\1', text_string)\n",
    "    return print(remove_duplicates)"
   ]
  },
  {
   "cell_type": "markdown",
   "metadata": {},
   "source": [
    "#### Проверка:"
   ]
  },
  {
   "cell_type": "code",
   "execution_count": 211,
   "metadata": {},
   "outputs": [
    {
     "name": "stdout",
     "output_type": "stream",
     "text": [
      "Напишите функцию, которая будет удалять все последовательные повторы слов из заданной строки при помощи регулярных выражений\n"
     ]
    }
   ],
   "source": [
    "unique_text = duplicates_remove(some_string)"
   ]
  },
  {
   "cell_type": "markdown",
   "metadata": {},
   "source": [
    "## Задание 3\n",
    "\n",
    "Напишите функцию, которая будет возвращать акроним по переданной в нее строке со словами. <br>\n",
    "Примеры работы программы:  \n",
    "\n",
    "1. `some_words = 'Информационные технологии'`\n",
    "\n",
    "Результат: \n",
    "`ИТ`\n",
    "\n",
    "2. `some_words = 'Near Field Communication'`\n",
    "\n",
    "Результат: \n",
    "`NFC`"
   ]
  },
  {
   "cell_type": "code",
   "execution_count": 302,
   "metadata": {},
   "outputs": [],
   "source": [
    "some_words = 'Информационные технологии' "
   ]
  },
  {
   "cell_type": "code",
   "execution_count": 328,
   "metadata": {},
   "outputs": [],
   "source": [
    "def string_to_acronym(text):\n",
    "    # создаём регулярное выражение которое выдаёт все\n",
    "    # символы, кроме первого:\n",
    "    regex = r'(?<!\\b).|\\s'\n",
    "    # пишем выражение, где все найденные символы будут\n",
    "    # заменены на пустоту:\n",
    "    first_letters = re.sub(regex, '', text)\n",
    "    # переводим в верхний регистр:\n",
    "    up_letters = first_letters.upper()\n",
    "    return print(up_letters)"
   ]
  },
  {
   "cell_type": "markdown",
   "metadata": {},
   "source": [
    "#### Проверка:"
   ]
  },
  {
   "cell_type": "code",
   "execution_count": 331,
   "metadata": {},
   "outputs": [
    {
     "name": "stdout",
     "output_type": "stream",
     "text": [
      "ИТ\n",
      "NFC\n"
     ]
    }
   ],
   "source": [
    "some_words_1 = string_to_acronym('Информационные технологии')\n",
    "some_words_2 = string_to_acronym('Near Field Communication')"
   ]
  },
  {
   "cell_type": "markdown",
   "metadata": {},
   "source": [
    "## Задание 4\n",
    "\n",
    "Напишите функцию, которая будет принимать на вход список email-адресов и выводить их распределение по доменным зонам. <br>\n",
    "Пример работы программы:\n",
    "\n",
    "`emails = ['test@gmail.com, xyz@test.in, test@ya.ru, xyz@mail.ru, xyz@ya.ru', xyz@gmail.com]`\n",
    "\n",
    "Результат: \n",
    "```\n",
    "gmail.com: 2\n",
    "test.in: 1 \n",
    "ya.ru: 2 \n",
    "mail.ru: 1\n",
    "```"
   ]
  },
  {
   "cell_type": "code",
   "execution_count": 144,
   "metadata": {},
   "outputs": [],
   "source": [
    "emails = ['test@gmail.com, xyz@test.in, test@ya.ru, xyz@mail.ru, xyz@ya.ru, xyz@gmail.com']"
   ]
  },
  {
   "cell_type": "code",
   "execution_count": 142,
   "metadata": {},
   "outputs": [],
   "source": [
    "def domains_counting_2(list_value):\n",
    "    # на входе от пользователя мы можем получить список e-mail,\n",
    "    # котороый будет представлять собой одну большую строку.\n",
    "    # создаём regex для разделения большой строки по доменам,\n",
    "    # т.е. извлекаем домен каждого e-mail в отдельную строку:\n",
    "    split_regex = r'(?<=@)([\\w.]*)'\n",
    "    # выполняем сплит большой строки\n",
    "    # на выходе получаем список из отдельных строк-доменов:\n",
    "    domain_list = re.findall(split_regex, str(list_value))\n",
    "    # создадим список уникальных доменов:\n",
    "    unique_domains_list = set(domain_list)\n",
    "    # для каждого домена необходимо подсчитать повторения\n",
    "    # решаем эту задачу при помощи цикла и подцикла:\n",
    "    for domain in unique_domains_list:\n",
    "        # где domain - уникальный домен\n",
    "        # создаём переменную, в которую запишем каждое совпадение:\n",
    "        quantity = 0\n",
    "        # берём domain и проходимся по списку domain_list:\n",
    "        for domain_in_list in domain_list:\n",
    "            # domain_in_list - домен в НЕуникальном списке\n",
    "            if domain == domain_in_list:\n",
    "                quantity += 1\n",
    "        print(domain + \": \"+ str(quantity))\n",
    "    "
   ]
  },
  {
   "cell_type": "code",
   "execution_count": 145,
   "metadata": {},
   "outputs": [
    {
     "name": "stdout",
     "output_type": "stream",
     "text": [
      "gmail.com: 2\n",
      "ya.ru: 2\n",
      "mail.ru: 1\n",
      "test.in: 1\n"
     ]
    }
   ],
   "source": [
    "result = domains_counting_2(emails)"
   ]
  }
 ],
 "metadata": {
  "interpreter": {
   "hash": "49a4e0fb1aaff4a51e7eb85ecb0f4f651c95f13ee9559767aec7be44bc3b460d"
  },
  "kernelspec": {
   "display_name": "Python 3.8.5 64-bit ('base': conda)",
   "name": "python3"
  },
  "language_info": {
   "codemirror_mode": {
    "name": "ipython",
    "version": 3
   },
   "file_extension": ".py",
   "mimetype": "text/x-python",
   "name": "python",
   "nbconvert_exporter": "python",
   "pygments_lexer": "ipython3",
   "version": "3.8.5"
  }
 },
 "nbformat": 4,
 "nbformat_minor": 2
}
