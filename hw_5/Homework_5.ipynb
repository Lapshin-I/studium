{
 "cells": [
  {
   "cell_type": "markdown",
   "source": [
    "# Домашнее задание"
   ],
   "metadata": {}
  },
  {
   "cell_type": "markdown",
   "source": [
    "Ссылка на ДЗ: https://github.com/obulygin/pyda_homeworks/blob/master/functions/functions.ipynb\n",
    "Вам нужно помочь секретарю автоматизировать работу. Для этого нужно написать программу, которая будет на основе хранимых данных исполнять пользовательские команды.\n",
    "Исходные данные имеют следующую структуру:\n",
    "\n",
    "1. перечень всех документов\n",
    "    documents = [\n",
    "    {'type': 'passport', 'number': '2207 876234', 'name': 'Василий Гупкин'},\n",
    "    {'type': 'invoice', 'number': '11-2', 'name': 'Геннадий Покемонов'},\n",
    "    {'type': 'insurance', 'number': '10006', 'name': 'Аристарх Павлов'}\n",
    "    ]\n",
    "\n",
    "2. перечень полок, на которых хранятся документы (если документ есть в documents, то он обязательно должен быть и в directories)\n",
    "    directories = {\n",
    "    '1': ['2207 876234', '11-2'],\n",
    "    '2': ['10006'],\n",
    "    '3': []\n",
    "    }\n",
    "    \n",
    "Общие требования к программе:\n",
    "код должен быть грамотно декомпозирован (каждая функция отвечает за свою конкретную задачу, дублирующийся функционал переиспользуется, а его код не повторяется);\n",
    "в коде отсутствуют глобальные переменные (за исключением documents и directories);\n",
    "пользовательский ввод обрабатывается в цикле while до тех пор, пока пользователь явно не завершит программу (вводом команды \"q\")."
   ],
   "metadata": {}
  },
  {
   "cell_type": "markdown",
   "source": [
    "## Исходные значения:"
   ],
   "metadata": {}
  },
  {
   "cell_type": "code",
   "execution_count": 117,
   "source": [
    "directories = {\n",
    "    '1': ['2207 876234', '11-2'],\n",
    "    '2': ['10006'],\n",
    "    '3': []\n",
    "    }\n",
    "\n",
    "documents = [\n",
    "    {'type': 'passport', 'number': '2207 876234', 'name': 'Василий Гупкин'},\n",
    "    {'type': 'invoice', 'number': '11-2', 'name': 'Геннадий Покемонов'},\n",
    "    {'type': 'insurance', 'number': '10006', 'name': 'Аристарх Павлов'}\n",
    "    ]"
   ],
   "outputs": [],
   "metadata": {}
  },
  {
   "cell_type": "markdown",
   "source": [
    "## Функции:"
   ],
   "metadata": {}
  },
  {
   "cell_type": "code",
   "execution_count": 118,
   "source": [
    "# Функция для запроса номера документа\n",
    "def f_request_doc_number ():\n",
    "    result = input(\"Введите номер документа: \")\n",
    "    return result"
   ],
   "outputs": [],
   "metadata": {}
  },
  {
   "cell_type": "code",
   "execution_count": 119,
   "source": [
    "# Функция для фильтрации словаря\n",
    "def f_dict_filter (filter_value, filter_key, value_key, dictionary_name):\n",
    "    '''\n",
    "    Данная функция выполняет фильтрацию словаря с одним уровнем вложенности.\n",
    "    Функция принимает:\n",
    "        • filter_value      - значение, по которому выполняется фильтрация\n",
    "        • filter_key        - ключ, по которому выполняется фильтрация\n",
    "        • value_key         - ключ, по которому выдаётся результат\n",
    "        • dictionary_name   - переменная, содержащая список словарей\n",
    "    '''\n",
    "    for i in dictionary_name:\n",
    "        if i[filter_key] == filter_value: return i[value_key]\n",
    "\n",
    "    return \"null\""
   ],
   "outputs": [],
   "metadata": {}
  },
  {
   "cell_type": "code",
   "execution_count": 120,
   "source": [
    "# Функция для фильтрации словаря с вложенным списком\n",
    "def f_dict_list_filter (filter_value, dictionary_name):\n",
    "    '''\n",
    "    Данная функция выполняет фильтрацию словаря, где value = список.\n",
    "    Фильтрация выполняется по содержимому списка. Result = ключ.\n",
    "    Функция принимает:\n",
    "        • filter_value      - значение, по которому выполняется фильтрация\n",
    "        • dictionary_name   - переменная, содержащая словарь\n",
    "    '''\n",
    "    for i in directories.items():\n",
    "        if len(i[1]) > 0:\n",
    "            for j in i[1]:\n",
    "                if j == filter_value: return i[0]\n",
    "\n",
    "    return \"null\""
   ],
   "outputs": [],
   "metadata": {}
  },
  {
   "cell_type": "code",
   "execution_count": 122,
   "source": [
    "# Функция для объединения данных из 2-х источников:\n",
    "def f_sours_combine (sourse_1, sourse_2):\n",
    "    '''\n",
    "    Данная функция выдаёт данные из двух источников.\n",
    "    Сопостовление данных производится по search_value.\n",
    "    Функция принимает:\n",
    "        • sourse_1      - источник представлюящий собой список словарей\n",
    "                          записи словаря является искомыми значениями\n",
    "        • sourse_2      - источник словарь с вложенным списком, котор. содержит искомые значения.\n",
    "                          ключ словаря - возвращаемое значение\n",
    "        • search_value  - имя ключа словаря, который содержит искомоме значение\n",
    "    '''\n",
    "    # извлекаем инфомрацию о документе в соответствующие переменные:\n",
    "    for doc_info in sourse_1:\n",
    "        document_type = doc_info['type']\n",
    "        document_number = doc_info['number']\n",
    "        document_owner = doc_info['name']\n",
    "    # извлекаем информацию о местонахождении документа:\n",
    "        # на выходе получаем кортеж, где i[0] = номер полки, i[1] - список с номерами документов\n",
    "        for i in sourse_2.items():\n",
    "            # убеждаемся, что работаем только с непустыми списками:\n",
    "            if len(i[1]) > 0: \n",
    "                # извлекаем номер каждого документа из списка: \n",
    "                for j in i[1]:\n",
    "                    # полученный номер записываем в переменную\n",
    "                    document_number_local = j\n",
    "                    document_directories = i[0] \n",
    "                    # если номера документов совпадают, то объединяем записи из разных списков:\n",
    "                    if document_number == document_number_local:\n",
    "                        result = \"№: \" + document_number + \", тип: \" + document_type + \", владелец: \" + document_owner + \", полка хранения: \" + document_directories\n",
    "                        print(result)\n",
    "    "
   ],
   "outputs": [],
   "metadata": {}
  },
  {
   "cell_type": "code",
   "execution_count": 123,
   "source": [
    "# функция, которая возвращает ключи через запятую\n",
    "# используется в функциях dict_add_value и dict_del_value\n",
    "def keys_to_value (dic_name):\n",
    "    all_directories = \", \".join([str(i) for i in dic_name.keys()])\n",
    "    return(all_directories)"
   ],
   "outputs": [],
   "metadata": {}
  },
  {
   "cell_type": "code",
   "execution_count": 124,
   "source": [
    "# Функция для добавления ключа в словарь / полки\n",
    "\n",
    "def dict_add_value (dic_name):\n",
    "    '''\n",
    "    Данная функция добавляет запись о полке в реестр.\n",
    "    Функция принимает:\n",
    "        • dic_name       - справочник, в котором указываются данные\n",
    "                           о расположении объекта\n",
    "    '''\n",
    "    # запрашиваем у пользователя номер полки:\n",
    "    dict_key =  input(\"Введите номер полки: \")\n",
    "    # проверяем, имеются ли подобные ключи (полки) в словаре:\n",
    "    if dict_key in dic_name:\n",
    "        return(\"Такая полка уже существует.\")\n",
    "    else:\n",
    "        # добавляем новый ключ (полку) в словарь:\n",
    "        dic_name[dict_key] = []\n",
    "        # список всех ключей (полок) конвертируем в строки:\n",
    "        all_directories = \", \".join([str(i) for i in dic_name.keys()])\n",
    "        result = \"Полка добавлена. Текущий перечень полок: \" + keys_to_value(dic_name)\n",
    "        return(result)"
   ],
   "outputs": [],
   "metadata": {}
  },
  {
   "cell_type": "code",
   "execution_count": 125,
   "source": [
    "# функция для удалеия ключа из словаря / полки\n",
    "def dict_del_value (dic_name):\n",
    "    '''\n",
    "    Данная функция удаляет запись о полке в реестр.\n",
    "    Функция принимает:\n",
    "        • dic_name       - справочник, в котором указываются данные\n",
    "                           о расположении объекта\n",
    "    '''\n",
    "    # запрашиваем у пользователя номер полки:\n",
    "    dict_key =  input(\"Введите номер полки: \")\n",
    " \n",
    "    # проверяем, имеются ли подобные ключи (полки) в словаре:\n",
    "    if  dict_key not in dic_name:\n",
    "            return(\"Такой полки не существует.\")\n",
    "    # проверяем, имеются ли в списке (на полке) какие-то записи (документы):\n",
    "    elif len(dic_name[dict_key]) > 0: #list_len > 0:\n",
    "            return(\"На полке есть документы, удалите их перед удалением полки. Текущий перечень полок: \" + keys_to_value(dic_name))      \n",
    "    else:\n",
    "    # удаляем ключ (полку) в словаре:\n",
    "        del dic_name[dict_key]\n",
    "        return(\"Полка удалена. Текущий перечень полок: \" + keys_to_value(dic_name))"
   ],
   "outputs": [],
   "metadata": {}
  },
  {
   "cell_type": "markdown",
   "source": [
    "## Стартовый цикл:"
   ],
   "metadata": {}
  },
  {
   "cell_type": "code",
   "execution_count": null,
   "source": [
    "welcome = print(\n",
    "    '''\n",
    "    Добро пожаловать!\n",
    "    Чтобы выполнить действие, воспользуйтесь следующими командами:\n",
    "        * p    - узнать владельца документа\n",
    "        * s    - поиск документа\n",
    "        * /    - вся информация по всем документам\n",
    "        * ads  - добавить новое место хранения\n",
    "        * ds   - удаление места хранения\n",
    "    ''')\n",
    "\n",
    "while True:\n",
    "    user_comand = input('Введите команду: ')\n",
    "    # условие для завершения программы:\n",
    "    if      user_comand == 'q':\n",
    "                break\n",
    "    \n",
    "    # условие для поиска владельца документа (пункт 1):\n",
    "    elif    user_comand == str(\"p\"):\n",
    "                # обращаемся к функции:\n",
    "                result = f_dict_filter(f_request_doc_number (), 'number', 'name', documents) # получаем из функции имя владельца или null\n",
    "                # выполняем обработку резульататов функции:\n",
    "                if      result == \"null\": print(\"Документ не найден в базе.\")\n",
    "                elif    result != \"null\": print(\"Владелец документа: \" + result)\n",
    "\n",
    "    # условие для поиска местонахождения документа (пункт 2):\n",
    "    elif    user_comand == str('s'):\n",
    "                # обращаемся к функции:\n",
    "                result = (f_dict_list_filter(filter_value = f_request_doc_number(), dictionary_name = directories)) # получаем из функции имя владельца или null\n",
    "                # выполняем обработку резульататов функции:\n",
    "                if      result == \"null\": print(\"Документ не найден в базе.\")\n",
    "                elif    result != \"null\": print(\"Документ хранится на полке: \" + result)\n",
    "\n",
    "    # условие для возврата информации по всем документам (пункт 3):\n",
    "    elif    user_comand == str('/'):\n",
    "                # обращаемся к функции:\n",
    "                result = (f_sours_combine(documents, directories)) # получаем из функции список документов с указанием полки\n",
    "\n",
    "    # условие для добавления полки:\n",
    "    elif    user_comand == str('ads'):\n",
    "                # обращаемся к функции:\n",
    "                result = print(dict_add_value(directories))\n",
    "\n",
    "    elif    user_comand == str('ds'):\n",
    "                # обращаемся к функции:\n",
    "                result = print(dict_del_value(directories))\n",
    "\n",
    "    # если пользователь ошибся с командой:\n",
    "    else:   print(\"Вы ввели несущесвующую команду\")"
   ],
   "outputs": [],
   "metadata": {}
  }
 ],
 "metadata": {
  "orig_nbformat": 4,
  "language_info": {
   "name": "python",
   "version": "3.8.5",
   "mimetype": "text/x-python",
   "codemirror_mode": {
    "name": "ipython",
    "version": 3
   },
   "pygments_lexer": "ipython3",
   "nbconvert_exporter": "python",
   "file_extension": ".py"
  },
  "kernelspec": {
   "name": "python3",
   "display_name": "Python 3.8.5 64-bit ('base': conda)"
  },
  "interpreter": {
   "hash": "99256ce6b484b4f9761b8dc18a414afe394c5f405f679380d8c6ac5f2c7658bc"
  }
 },
 "nbformat": 4,
 "nbformat_minor": 2
}