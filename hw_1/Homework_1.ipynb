{
 "cells": [
  {
   "cell_type": "markdown",
   "metadata": {},
   "source": [
    "# Домашнее задание по теме \"Основый Python\""
   ]
  },
  {
   "cell_type": "markdown",
   "metadata": {},
   "source": [
    "## Задание 1"
   ]
  },
  {
   "cell_type": "code",
   "execution_count": 1,
   "metadata": {},
   "outputs": [
    {
     "name": "stdout",
     "output_type": "stream",
     "text": [
      "Фраза 1 длинее фразы 2\n"
     ]
    }
   ],
   "source": [
    "phrase_1 = 'Насколько проще было бы писать программы, если бы не заказчики'\n",
    "phrase_2 = '640Кб должно хватить для любых задач. Билл Гейтс (по легенде)'\n",
    "\n",
    "len_phrase_1 = len(phrase_1)\n",
    "len_phrase_2 = len(phrase_2)\n",
    "\n",
    "if len_phrase_1 > len_phrase_2:\n",
    "    print('Фраза 1 длинее фразы 2')\n",
    "elif len_phrase_1 < len_phrase_2:\n",
    "    print('Фраза 2 длинее фразы 1')\n",
    "elif len_phrase_1 == len_phrase_2:\n",
    "    print('Фразы равной длины')"
   ]
  },
  {
   "cell_type": "markdown",
   "metadata": {},
   "source": [
    "## Задание № 2"
   ]
  },
  {
   "cell_type": "code",
   "execution_count": 2,
   "metadata": {
    "scrolled": true
   },
   "outputs": [
    {
     "name": "stdout",
     "output_type": "stream",
     "text": [
      "Високосный год\n"
     ]
    }
   ],
   "source": [
    "Year = 2016\n",
    "\n",
    "if Year % 4 == 0:\n",
    "    print('Високосный год')\n",
    "else:\n",
    "    print('Обычный год')"
   ]
  },
  {
   "cell_type": "markdown",
   "metadata": {},
   "source": [
    "## Задание № 3"
   ]
  },
  {
   "cell_type": "code",
   "execution_count": 39,
   "metadata": {},
   "outputs": [
    {
     "name": "stdout",
     "output_type": "stream",
     "text": [
      "Введите дату рождения в формате дд.мм.гггг: 26.04.2000\n"
     ]
    }
   ],
   "source": [
    "date_of_user_birth = input('Введите дату рождения в формате дд.мм.гггг: ') # получаем дату рождения"
   ]
  },
  {
   "cell_type": "code",
   "execution_count": 40,
   "metadata": {},
   "outputs": [
    {
     "name": "stdout",
     "output_type": "stream",
     "text": [
      "Уникальное число дня-месяца:  426\n"
     ]
    }
   ],
   "source": [
    "day_ub, month_ub, year__ub = map(int, date_of_user_birth.split('.')) # извлекаем по разделителю\n",
    "m_d_n = month_ub * 100 + day_ub # создаём уникальный номер дня и месяца\n",
    "print('Уникальное число дня-месяца: ', m_d_n)"
   ]
  },
  {
   "cell_type": "code",
   "execution_count": 41,
   "metadata": {},
   "outputs": [
    {
     "name": "stdout",
     "output_type": "stream",
     "text": [
      "Телец\n"
     ]
    }
   ],
   "source": [
    "if   m_d_n >= 321  and  m_d_n <= 419:  print('Овен')\n",
    "elif m_d_n >= 420  and  m_d_n <= 520:  print('Телец')\n",
    "elif m_d_n >= 521  and  m_d_n <= 620:  print('Близнецы')\n",
    "elif m_d_n >= 621  and  m_d_n <= 722:  print('Рак')\n",
    "elif m_d_n >= 723  and  m_d_n <= 822:  print('Лев')\n",
    "elif m_d_n >= 823  and  m_d_n <= 922:  print('Дева')\n",
    "elif m_d_n >= 923  and  m_d_n <= 1022: print('Весы')\n",
    "elif m_d_n >= 1023 and  m_d_n <= 1121: print('Скорпион')\n",
    "elif m_d_n >= 1122 and  m_d_n <= 1221: print('Стрелец')\n",
    "elif m_d_n >= 1222 and  m_d_n <= 1319: print('Козерог')\n",
    "elif m_d_n >= 120  and  m_d_n <= 218:  print('Водолей')\n",
    "elif m_d_n >= 219  and  m_d_n <= 320:  print('Рыбы')\n",
    "else: print('Проверьте корректность даты')"
   ]
  },
  {
   "cell_type": "markdown",
   "metadata": {},
   "source": [
    "## Задание № 4"
   ]
  },
  {
   "cell_type": "code",
   "execution_count": 6,
   "metadata": {},
   "outputs": [
    {
     "name": "stdout",
     "output_type": "stream",
     "text": [
      "Укажите ширину товара, см: 10\n",
      "Укажите длину товара, см: 205\n",
      "Укажите высоту товара, см: 5\n"
     ]
    }
   ],
   "source": [
    "prod_width = int(input('Укажите ширину товара, см: '))\n",
    "prod_length = int(input('Укажите длину товара, см: '))\n",
    "prod_height = int(input('Укажите высоту товара, см: '))"
   ]
  },
  {
   "cell_type": "code",
   "execution_count": 10,
   "metadata": {},
   "outputs": [],
   "source": [
    "dim_A = int(15)\n",
    "dim_B = 50\n",
    "dim_C = 200"
   ]
  },
  {
   "cell_type": "code",
   "execution_count": 8,
   "metadata": {
    "scrolled": false
   },
   "outputs": [
    {
     "name": "stdout",
     "output_type": "stream",
     "text": [
      "другое условие\n"
     ]
    }
   ],
   "source": [
    "if 10 <= 5:\n",
    "    print('текст текстович')\n",
    "else:\n",
    "    print('другое условие')"
   ]
  },
  {
   "cell_type": "code",
   "execution_count": 25,
   "metadata": {},
   "outputs": [
    {
     "name": "stdout",
     "output_type": "stream",
     "text": [
      "Упаковка для лыж\n"
     ]
    }
   ],
   "source": [
    "if    prod_width <= dim_A and prod_length <= dim_A and prod_height <= dim_A:\n",
    "      print('Коробка №1')\n",
    "elif  (prod_width > dim_A or prod_length > dim_A or prod_height > dim_A) and (prod_width <= dim_B and prod_length <= dim_B and prod_height <= dim_B):\n",
    "      print('Коробка №2')\n",
    "elif  prod_width > dim_C or prod_length > dim_C or prod_height > dim_C:\n",
    "      print('Упаковка для лыж')\n",
    "else:\n",
    "      print('Стандартная коробка № 3')"
   ]
  },
  {
   "cell_type": "markdown",
   "metadata": {},
   "source": [
    "## Задание 5"
   ]
  },
  {
   "cell_type": "code",
   "execution_count": 29,
   "metadata": {},
   "outputs": [
    {
     "name": "stdout",
     "output_type": "stream",
     "text": [
      "Введите номер билета: 123321\n"
     ]
    }
   ],
   "source": [
    "ticket_number = str(input('Введите номер билета: '))"
   ]
  },
  {
   "cell_type": "code",
   "execution_count": 38,
   "metadata": {},
   "outputs": [
    {
     "name": "stdout",
     "output_type": "stream",
     "text": [
      "Счастливый билет\n"
     ]
    }
   ],
   "source": [
    "num_1 = int(ticket_number[0])\n",
    "num_2 = int(ticket_number[1])\n",
    "num_3 = int(ticket_number[2])\n",
    "num_4 = int(ticket_number[3])\n",
    "num_5 = int(ticket_number[4])\n",
    "num_6 = int(ticket_number[5])\n",
    "\n",
    "sum_first = num_1 + num_2 + num_3\n",
    "sum_last = num_4 + num_5 + num_6\n",
    "\n",
    "if sum_first == sum_last:\n",
    "    print('Счастливый билет')\n",
    "else:\n",
    "    print('Неасчастливый билет')\n"
   ]
  }
 ],
 "metadata": {
  "kernelspec": {
   "display_name": "Python 3",
   "language": "python",
   "name": "python3"
  },
  "language_info": {
   "codemirror_mode": {
    "name": "ipython",
    "version": 3
   },
   "file_extension": ".py",
   "mimetype": "text/x-python",
   "name": "python",
   "nbconvert_exporter": "python",
   "pygments_lexer": "ipython3",
   "version": "3.8.5"
  }
 },
 "nbformat": 4,
 "nbformat_minor": 4
}
