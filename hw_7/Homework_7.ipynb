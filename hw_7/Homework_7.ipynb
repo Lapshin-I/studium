{
 "cells": [
  {
   "cell_type": "markdown",
   "source": [
    "# Домашнее задание"
   ],
   "metadata": {}
  },
  {
   "cell_type": "code",
   "execution_count": 1,
   "source": [
    "# импортируем класс datetime из одноимённой библиотеки\n",
    "from datetime import datetime as dtcl\n",
    "from datetime import timedelta"
   ],
   "outputs": [],
   "metadata": {}
  },
  {
   "cell_type": "markdown",
   "source": [
    "## Задание № 1\n",
    "Печатные газеты использовали свой формат дат для каждого выпуска.\n",
    "Для каждой газеты из списка напишите формат указанной даты для перевода в объект datetime:\n",
    "- The Moscow Times - Wednesday, October 2, 2002\n",
    "- The Guardian - Friday, 11.10.13\n",
    "- Daily News - Thursday, 18 August 1977"
   ],
   "metadata": {}
  },
  {
   "cell_type": "code",
   "execution_count": 2,
   "source": [
    "Moscow_Times = 'Wednesday, October 2, 2002'\n",
    "Guardian = 'Friday, 11.10.13'\n",
    "Daily_News = 'Thursday, 18 August 1977'"
   ],
   "outputs": [],
   "metadata": {}
  },
  {
   "cell_type": "code",
   "execution_count": 3,
   "source": [
    "Moscow_Times_dt = dtcl.strptime(Moscow_Times, '%A, %B %d, %Y')\n",
    "Guardian_dt = dtcl.strptime(Guardian, '%A, %m.%d.%y')\n",
    "Daily_News_dt = dtcl.strptime(Daily_News, '%A, %d %B %Y')\n",
    "\n",
    "print(Moscow_Times_dt,'\\n', Guardian_dt,'\\n', Daily_News_dt)"
   ],
   "outputs": [
    {
     "output_type": "stream",
     "name": "stdout",
     "text": [
      "2002-10-02 00:00:00 \n",
      " 2013-11-10 00:00:00 \n",
      " 1977-08-18 00:00:00\n"
     ]
    }
   ],
   "metadata": {}
  },
  {
   "cell_type": "markdown",
   "source": [
    "## Задание 2\n",
    "Дан поток дат в формате YYYY-MM-DD, в которых встречаются некорректные значения:\n",
    "* stream = [‘2018-04-02’, ‘2018-02-29’, ‘2018-19-02’]\n",
    "\n",
    "Напишите функцию, которая проверяет эти даты на корректность. Т. е. для каждой даты возвращает True (дата корректна) или False (некорректная дата)."
   ],
   "metadata": {}
  },
  {
   "cell_type": "code",
   "execution_count": 4,
   "source": [
    "stream = ['2018-04-02', '2018-02-29', '2018-19-02']"
   ],
   "outputs": [],
   "metadata": {}
  },
  {
   "cell_type": "code",
   "execution_count": 5,
   "source": [
    "def StrToDate (list_values):\n",
    "    for i in list_values:\n",
    "        try:\n",
    "            dtcl.strptime(i, '%Y-%m-%d')\n",
    "            return True \n",
    "        except:\n",
    "            return False"
   ],
   "outputs": [],
   "metadata": {}
  },
  {
   "cell_type": "code",
   "execution_count": 6,
   "source": [
    "StrToDate(stream)  # необходимо изменить результат"
   ],
   "outputs": [
    {
     "output_type": "execute_result",
     "data": {
      "text/plain": [
       "True"
      ]
     },
     "metadata": {},
     "execution_count": 6
    }
   ],
   "metadata": {}
  },
  {
   "cell_type": "markdown",
   "source": [
    "## Задание 3\n",
    "Напишите функцию date_range, которая возвращает список дат за период от start_date до end_date. Даты должны вводиться в формате YYYY-MM-DD. В случае неверного формата или при start_date > end_date должен возвращаться пустой список."
   ],
   "metadata": {}
  },
  {
   "cell_type": "code",
   "execution_count": 12,
   "source": [
    "while True:\n",
    "    # запрашиваем данные от пользователя:\n",
    "    start_date_list = [input('Введите дату начала в формате YYYY-MM-DD: ')]\n",
    "    # проверяем данные на корректность:\n",
    "    if StrToDate(start_date_list) == False:\n",
    "        print('Вы ввели некорректный формат даты')\n",
    "        break\n",
    "    # переводим данные в datetime:\n",
    "    start_date_dt = dtcl.strptime(start_date_list[0], '%Y-%m-%d')\n",
    "\n",
    "    # запрашиваем данные от пользователя:\n",
    "    end_date_list = [input('Введите дату окончания в формате YYYY-MM-DD: ')]\n",
    "    # проверяем данные на корректность:\n",
    "    if StrToDate(end_date_list) == False:\n",
    "        print('Вы ввели некорректный формат даты')\n",
    "        break\n",
    "    # переводим данные в datetime:\n",
    "    end_date_dt = dtcl.strptime(end_date_list[0], '%Y-%m-%d')\n",
    "    \n",
    "    # проверяем корректность. дата начала меньше даты окончания\n",
    "    if start_date_dt > end_date_dt:\n",
    "        print('Дата начала не может быть больше даты окончания')\n",
    "        break\n",
    "\n",
    "    else:\n",
    "         # создаём переменную, которая будет содержать дата + 1\n",
    "        current_dt = start_date_dt\n",
    "        # создаём цикл, в котором current_dt увеличивается на 1 день\n",
    "        while current_dt <= end_date_dt:\n",
    "            print(current_dt)\n",
    "            current_dt += timedelta(days=1)\n",
    "        # завершение всего цикла\n",
    "        break"
   ],
   "outputs": [
    {
     "output_type": "stream",
     "name": "stdout",
     "text": [
      "2020-02-20 00:00:00\n",
      "2020-02-21 00:00:00\n",
      "2020-02-22 00:00:00\n",
      "2020-02-23 00:00:00\n",
      "2020-02-24 00:00:00\n",
      "2020-02-25 00:00:00\n",
      "2020-02-26 00:00:00\n",
      "2020-02-27 00:00:00\n",
      "2020-02-28 00:00:00\n",
      "2020-02-29 00:00:00\n",
      "2020-03-01 00:00:00\n"
     ]
    }
   ],
   "metadata": {}
  }
 ],
 "metadata": {
  "interpreter": {
   "hash": "99256ce6b484b4f9761b8dc18a414afe394c5f405f679380d8c6ac5f2c7658bc"
  },
  "kernelspec": {
   "name": "python3",
   "display_name": "Python 3.8.5 64-bit ('base': conda)"
  },
  "language_info": {
   "codemirror_mode": {
    "name": "ipython",
    "version": 3
   },
   "file_extension": ".py",
   "mimetype": "text/x-python",
   "name": "python",
   "nbconvert_exporter": "python",
   "pygments_lexer": "ipython3",
   "version": "3.8.5"
  },
  "orig_nbformat": 4
 },
 "nbformat": 4,
 "nbformat_minor": 2
}