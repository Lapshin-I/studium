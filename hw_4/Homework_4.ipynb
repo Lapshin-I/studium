{
    "cells": [
        {
            "cell_type": "markdown",
            "source": [
                "# Задача №1"
            ],
            "metadata": {}
        },
        {
            "cell_type": "markdown",
            "source": [
                "Дана переменная, в которой хранится словарь ({}), содержащий гео-метки для каждого пользователя. Вам необходимо написать программу, которая выведет на экран множество уникальных гео-меток всех пользователей."
            ],
            "metadata": {}
        },
        {
            "cell_type": "code",
            "execution_count": 1,
            "source": [
                "ids = {\r\n",
                "    'user1': [213, 213, 213, 15, 213],\r\n",
                "    'user2': [54, 54, 119, 119, 119],\r\n",
                "    'user3': [213, 98, 98, 35]\r\n",
                "}"
            ],
            "outputs": [],
            "metadata": {}
        },
        {
            "cell_type": "code",
            "execution_count": 2,
            "source": [
                "# используется генератор списков. в результате создаётся список списков\r\n",
                "lists_values = [[val for val in ids[key_name]] for key_name in ids]\r\n",
                "# на этом шаге список списков преобразуетя в один список\r\n",
                "value = list(set([x for l in lists_values for x in l]))\r\n",
                "\r\n",
                "print(value)"
            ],
            "outputs": [
                {
                    "output_type": "stream",
                    "name": "stdout",
                    "text": [
                        "[98, 35, 15, 213, 54, 119]\n"
                    ]
                }
            ],
            "metadata": {}
        },
        {
            "cell_type": "markdown",
            "source": [
                "# Задача № 2"
            ],
            "metadata": {}
        },
        {
            "cell_type": "markdown",
            "source": [
                "Дана переменная, в которой хранится список поисковых запросов пользователя (пример структуры данных приведен ниже). Вам необходимо написать программу, которая выведет на экран распределение количества слов в запросах в требуемом виде."
            ],
            "metadata": {}
        },
        {
            "cell_type": "code",
            "execution_count": 3,
            "source": [
                "queries = [\r\n",
                "    'смотреть сериалы онлайн',\r\n",
                "    'новости спорта',\r\n",
                "    'афиша кино',\r\n",
                "    'курс доллара',\r\n",
                "    'сериалы этим летом',\r\n",
                "    'курс по питону',\r\n",
                "    'сериалы про спорт',\r\n",
                "]\r\n",
                "\r\n",
                "# находим количество записей в списке, чтобы использовать при вычислении %\r\n",
                "queries_quantity = len(queries)\r\n",
                "queries_len = []\r\n",
                "# переменная в которую записываются возможные значения длины запросов\r\n",
                "unique_queries = []\r\n",
                "queries_sum = 0"
            ],
            "outputs": [],
            "metadata": {}
        },
        {
            "cell_type": "code",
            "execution_count": 4,
            "source": [
                "# ПЕРВЫЙ ЦИКЛ\r\n",
                "# Вычисляет уникальные возможные количества слов\r\n",
                "for i in range(queries_quantity):\r\n",
                "    # находим длину каждого запроса:\r\n",
                "    one_queries_len = len(queries[i].split())\r\n",
                "    # добавляем полученные значения в список:\r\n",
                "    queries_len.append(one_queries_len)\r\n",
                "    # создаём список только с уникальными значениями:\r\n",
                "    unique_queries = list(set(queries_len))\r\n"
            ],
            "outputs": [],
            "metadata": {}
        },
        {
            "cell_type": "code",
            "execution_count": 5,
            "source": [
                "# получаем список значений длин запросов:\r\n",
                "print(queries_len)\r\n",
                "# уникальные длины:\r\n",
                "print(unique_queries)"
            ],
            "outputs": [
                {
                    "output_type": "stream",
                    "name": "stdout",
                    "text": [
                        "[3, 2, 2, 2, 3, 3, 3]\n",
                        "[2, 3]\n"
                    ]
                }
            ],
            "metadata": {}
        },
        {
            "cell_type": "code",
            "execution_count": 6,
            "source": [
                "# ВТОРОЙ ЦИКЛ\r\n",
                "# Высчисляет процент для каждой возможной длины запроса\r\n",
                "for j in range(0,len(unique_queries)):\r\n",
                "    # создаём временную переменную содержащую уникальный номер кол-ва запросов:\r\n",
                "    unique_number_of_queries = unique_queries[j]\r\n",
                "    # вычисляем % отношение длины запроса:\r\n",
                "    percent_of_query = queries_len.count(unique_number_of_queries) / queries_quantity * 100\r\n",
                "    # изменяем кол-во символов после запятой:\r\n",
                "    percent_of_query = format(percent_of_query, \".2f\")\r\n",
                "\r\n",
                "    print('Поисковых запросов, содержащих '+ str(unique_number_of_queries) + ' слов(а): ' + str(percent_of_query)+ \"%\")"
            ],
            "outputs": [
                {
                    "output_type": "stream",
                    "name": "stdout",
                    "text": [
                        "Поисковых запросов, содержащих 2 слов(а): 42.86%\n",
                        "Поисковых запросов, содержащих 3 слов(а): 57.14%\n"
                    ]
                }
            ],
            "metadata": {}
        },
        {
            "cell_type": "markdown",
            "source": [
                "# Задача № 3"
            ],
            "metadata": {}
        },
        {
            "cell_type": "markdown",
            "source": [
                "Дана переменная, в которой хранится информация о затратах и доходе рекламных кампаний по различным источникам. Необходимо дополнить исходную структуру показателем ROI, который рассчитаем по формуле: \r\n",
                "(revenue / cost - 1) * 100.\r\n",
                "\r\n",
                "Необходимый результат:\r\n",
                "\r\n",
                "{'adwords': {'revenue': 35, 'cost': 34, 'ROI': 2.94},\r\n",
                " 'facebook': {'revenue': 103, 'cost': 110, 'ROI': -6.36},\r\n",
                " 'twitter': {'revenue': 11, 'cost': 24, 'ROI': -54.17},\r\n",
                " 'vk': {'revenue': 103, 'cost': 98, 'ROI': 5.1},\r\n",
                " 'yandex': {'revenue': 179, 'cost': 153, 'ROI': 16.99}}"
            ],
            "metadata": {}
        },
        {
            "cell_type": "code",
            "execution_count": 7,
            "source": [
                "results = {\r\n",
                "    'vk': {'revenue': 103, 'cost': 98},\r\n",
                "    'yandex': {'revenue': 179, 'cost': 153},\r\n",
                "    'facebook': {'revenue': 103, 'cost': 110},\r\n",
                "    'adwords': {'revenue': 35, 'cost': 34},\r\n",
                "    'twitter': {'revenue': 11, 'cost': 24},\r\n",
                "}"
            ],
            "outputs": [],
            "metadata": {}
        },
        {
            "cell_type": "code",
            "execution_count": 25,
            "source": [
                "# выделяем название платформы (platform), т.е. записываем в переменную называние ключа словаря;\r\n",
                "# в переменную value передаём словарь второго уровня:\r\n",
                "for platform, value in results.items():\r\n",
                "    # в следующих двух шагах, значения из словаря извлекаются в переменную при помощи ключа:\r\n",
                "    revenue_value = value['revenue']\r\n",
                "    cost_value = value['cost']\r\n",
                "    # вычисляем ROI:\r\n",
                "    ROI_value = round((revenue_value / cost_value -1) * 100, 2)\r\n",
                "    # показатель ROI вычислен. Далее небходимо записать его на необходимый уровень словаря\r\n",
                "    results[platform][\"ROI\"] = ROI_value    "
            ],
            "outputs": [
                {
                    "output_type": "stream",
                    "name": "stdout",
                    "text": [
                        "{'vk': {'revenue': 103, 'cost': 98, 'ROI': 5.1}, 'yandex': {'revenue': 179, 'cost': 153}, 'facebook': {'revenue': 103, 'cost': 110}, 'adwords': {'revenue': 35, 'cost': 34}, 'twitter': {'revenue': 11, 'cost': 24}}\n",
                        "{'vk': {'revenue': 103, 'cost': 98, 'ROI': 5.1}, 'yandex': {'revenue': 179, 'cost': 153, 'ROI': 16.99}, 'facebook': {'revenue': 103, 'cost': 110}, 'adwords': {'revenue': 35, 'cost': 34}, 'twitter': {'revenue': 11, 'cost': 24}}\n",
                        "{'vk': {'revenue': 103, 'cost': 98, 'ROI': 5.1}, 'yandex': {'revenue': 179, 'cost': 153, 'ROI': 16.99}, 'facebook': {'revenue': 103, 'cost': 110, 'ROI': -6.36}, 'adwords': {'revenue': 35, 'cost': 34}, 'twitter': {'revenue': 11, 'cost': 24}}\n",
                        "{'vk': {'revenue': 103, 'cost': 98, 'ROI': 5.1}, 'yandex': {'revenue': 179, 'cost': 153, 'ROI': 16.99}, 'facebook': {'revenue': 103, 'cost': 110, 'ROI': -6.36}, 'adwords': {'revenue': 35, 'cost': 34, 'ROI': 2.94}, 'twitter': {'revenue': 11, 'cost': 24}}\n",
                        "{'vk': {'revenue': 103, 'cost': 98, 'ROI': 5.1}, 'yandex': {'revenue': 179, 'cost': 153, 'ROI': 16.99}, 'facebook': {'revenue': 103, 'cost': 110, 'ROI': -6.36}, 'adwords': {'revenue': 35, 'cost': 34, 'ROI': 2.94}, 'twitter': {'revenue': 11, 'cost': 24, 'ROI': -54.17}}\n"
                    ]
                }
            ],
            "metadata": {}
        },
        {
            "cell_type": "code",
            "execution_count": 29,
            "source": [
                "# сортируем словарь по ключам:\r\n",
                "for i in sorted(results):\r\n",
                "    print(i, results[i])"
            ],
            "outputs": [
                {
                    "output_type": "stream",
                    "name": "stdout",
                    "text": [
                        "adwords {'revenue': 35, 'cost': 34, 'ROI': 2.94}\n",
                        "facebook {'revenue': 103, 'cost': 110, 'ROI': -6.36}\n",
                        "twitter {'revenue': 11, 'cost': 24, 'ROI': -54.17}\n",
                        "vk {'revenue': 103, 'cost': 98, 'ROI': 5.1}\n",
                        "yandex {'revenue': 179, 'cost': 153, 'ROI': 16.99}\n"
                    ]
                }
            ],
            "metadata": {}
        },
        {
            "cell_type": "markdown",
            "source": [
                "# Задание 4 "
            ],
            "metadata": {}
        },
        {
            "cell_type": "markdown",
            "source": [
                "Дана переменная, в которой хранится статистика рекламных каналов по объемам продаж (пример структуры данных приведен ниже). Напишите программу, которая возвращает название канала с максимальным объемом продаж.\r\n",
                "\r\n",
                "Необходимый результат:\r\n",
                "Максимальный объем продаж на рекламном канале: vk "
            ],
            "metadata": {}
        },
        {
            "cell_type": "code",
            "execution_count": 31,
            "source": [
                "stats = {'facebook': 55, 'yandex': 115, 'vk': 120, 'google': 99, 'email': 42, 'ok': 98}"
            ],
            "outputs": [],
            "metadata": {}
        },
        {
            "cell_type": "code",
            "execution_count": 36,
            "source": [
                "max_value = 0\r\n",
                "max_value = max(stats, key=stats.get)\r\n",
                "print('Максимальный обём продаж на рекламном канале: ' + max_value)"
            ],
            "outputs": [
                {
                    "output_type": "stream",
                    "name": "stdout",
                    "text": [
                        "Максимальный обём продаж на рекламном канале: vk\n"
                    ]
                }
            ],
            "metadata": {}
        }
    ],
    "metadata": {
        "orig_nbformat": 4,
        "language_info": {
            "name": "python",
            "version": "3.8.5",
            "mimetype": "text/x-python",
            "codemirror_mode": {
                "name": "ipython",
                "version": 3
            },
            "pygments_lexer": "ipython3",
            "nbconvert_exporter": "python",
            "file_extension": ".py"
        },
        "kernelspec": {
            "name": "python3",
            "display_name": "Python 3.8.5 64-bit ('base': conda)"
        },
        "interpreter": {
            "hash": "1d64f050b915e34b0e69a603aaa2378dede86237de96c7c45d1dc09fda4db38c"
        }
    },
    "nbformat": 4,
    "nbformat_minor": 2
}