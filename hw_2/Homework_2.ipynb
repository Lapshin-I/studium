{
 "cells": [
  {
   "cell_type": "markdown",
   "metadata": {},
   "source": [
    "# Домашнее задание по теме «Управляющие конструкции и коллекции» часть 1"
   ]
  },
  {
   "cell_type": "markdown",
   "metadata": {},
   "source": [
    "## Задание 1"
   ]
  },
  {
   "cell_type": "code",
   "execution_count": 2,
   "metadata": {},
   "outputs": [
    {
     "name": "stdout",
     "output_type": "stream",
     "text": [
      "es\n"
     ]
    }
   ],
   "source": [
    "word = 'test'\n",
    "word_len = len(word)\n",
    "\n",
    "# ОПРЕДЕЛЯЕМ ПАРАМЕТРЫ ИНДЕКСАЦИИ\n",
    "# для чётного числа\n",
    "ind_start_even = int((word_len - 2)/2) # находим индекс начала\n",
    "ind_end_even = ind_start_even+2        # находим индекс окончания\n",
    "\n",
    "# для НЕчётного числа\n",
    "ind_start_odd = int((word_len - 1)/2)  # находим индекс начала\n",
    "ind_end_odd = ind_start_odd+1          # находим индекс окончания \n",
    "\n",
    "# УСЛОВНАЯ КОНСТРУКЦИЯ\n",
    "\n",
    "if word_len % 2 == 0:\n",
    "    print(word[ind_start_even:ind_end_even])\n",
    "elif word_len % 2 != 0:\n",
    "    print(word[ind_start_odd:ind_end_odd])\n",
    "else: print('Хамяк его Знает')\n"
   ]
  },
  {
   "cell_type": "markdown",
   "metadata": {},
   "source": [
    "## Задание № 2"
   ]
  },
  {
   "cell_type": "code",
   "execution_count": 56,
   "metadata": {
    "scrolled": true
   },
   "outputs": [
    {
     "name": "stdout",
     "output_type": "stream",
     "text": [
      "Введите число: 1\n",
      "Введите число: 2\n",
      "Введите число: 3\n",
      "Введите число: 4\n",
      "Введите число: 5\n",
      "Введите число: 0\n",
      "15\n"
     ]
    }
   ],
   "source": [
    "number_from_user = input('Введите число: ')               # просим пользователя ввести значение\n",
    "list_user_numbers = []                                  # список, в который будут записаны только числа\n",
    "\n",
    "while number_from_user != 0:                            # начинаем цикл. условие такое, что цикл никогда не закончится\n",
    "    try:\n",
    "        number_from_user = int(number_from_user)        # пробуем перевести данные пользователя в тип даннзх \"число\"\n",
    "        \n",
    "    except Exception:\n",
    "        print('Необходимо вводить только цифры')            # если это не получается, то выводим предупреждение и \n",
    "        number_from_user = input('Повторите: ')          # запускаем запрос данных заново\n",
    "\n",
    "    else:                                               # если тип данных \"число\", то \n",
    "        list_user_numbers.append(number_from_user)      # заносим значение в список\n",
    "        if number_from_user == 0:                       # если пользователь ввёл \"0\", то\n",
    "            print(sum(list_user_numbers))               # выводим сумму всех значений\n",
    "        else:\n",
    "            number_from_user = input('Введите число: ')"
   ]
  },
  {
   "cell_type": "markdown",
   "metadata": {},
   "source": [
    "## Задание № 3"
   ]
  },
  {
   "cell_type": "markdown",
   "metadata": {},
   "source": [
    "### Сценарий № 1"
   ]
  },
  {
   "cell_type": "code",
   "execution_count": 20,
   "metadata": {},
   "outputs": [
    {
     "name": "stdout",
     "output_type": "stream",
     "text": [
      "Alex  и  Emma\n",
      "Arthur  и  Kate\n",
      "John  и  Kira\n",
      "Peter  и  Liza\n",
      "Richard  и  Trisha\n"
     ]
    }
   ],
   "source": [
    "# Входящие значения\n",
    "boys = ['Peter', 'Alex', 'John', 'Arthur', 'Richard']\n",
    "girls = ['Kate', 'Liza', 'Kira', 'Emma', 'Trisha']\n",
    "\n",
    "# Сортировка списков\n",
    "s_boys = sorted(boys)\n",
    "s_girls = sorted(girls)\n",
    "\n",
    "# Поиск минимальной длины списка для цикла\n",
    "l_boys = len(boys)\n",
    "l_girls = len(girls)\n",
    "min_len = min(l_boys, l_girls)\n",
    "\n",
    "# Проверка списков на равность\n",
    "len_check = l_boys == l_girls\n",
    "\n",
    "# Условие проверяет, равны ли списки\n",
    "if len_check:\n",
    "    # Если списки равны, запускается цикл\n",
    "    for i in range(min_len):\n",
    "        print(s_boys[i], ' и ', s_girls[i])\n",
    "    # Если списки не равны, пользователь получает уведомление\n",
    "else:\n",
    "    print('Внимание, кто-то может остаться без пары!')\n"
   ]
  },
  {
   "cell_type": "markdown",
   "metadata": {},
   "source": [
    "### Сценарий № 2"
   ]
  },
  {
   "cell_type": "code",
   "execution_count": 19,
   "metadata": {},
   "outputs": [
    {
     "name": "stdout",
     "output_type": "stream",
     "text": [
      "Внимание, кто-то может остаться без пары!\n"
     ]
    }
   ],
   "source": [
    "boys = ['Peter', 'Alex', 'John', 'Arthur', 'Richard', 'Michael']\n",
    "girls = ['Kate', 'Liza', 'Kira', 'Emma', 'Trisha']\n",
    "\n",
    "# Сортировка списков\n",
    "s_boys = sorted(boys)\n",
    "s_girls = sorted(girls)\n",
    "\n",
    "# Поиск минимальной длины списка для цикла\n",
    "l_boys = len(boys)\n",
    "l_girls = len(girls)\n",
    "min_len = min(l_boys, l_girls)\n",
    "\n",
    "# Проверка списков на равность\n",
    "len_check = l_boys == l_girls\n",
    "\n",
    "# Условие проверяет, равны ли списки\n",
    "if len_check:\n",
    "    # Если списки равны, запускается цикл\n",
    "    for i in range(min_len):\n",
    "        print(s_boys[i], ' и ', s_girls[i])\n",
    "    # Если списки не равны, пользователь получает уведомление\n",
    "else:\n",
    "    print('Внимание, кто-то может остаться без пары!')"
   ]
  },
  {
   "cell_type": "markdown",
   "metadata": {},
   "source": [
    "## Задание № 4"
   ]
  },
  {
   "cell_type": "code",
   "execution_count": 51,
   "metadata": {},
   "outputs": [
    {
     "name": "stdout",
     "output_type": "stream",
     "text": [
      "Thailand  -  23.9  C\n",
      "Germany  -  13.8  C\n",
      "Russia  -  3.7  C\n",
      "Poland  -  12.0  C\n"
     ]
    }
   ],
   "source": [
    "# На входе получаем следующий список:\n",
    "countries_temperature = [\n",
    "    ['Thailand', [75.2, 77, 78.8, 73.4, 68, 75.2, 77]],\n",
    "    ['Germany', [57.2, 55.4, 59, 59, 53.6]],\n",
    "    ['Russia', [35.6, 37.4, 39.2, 41, 42.8, 39.2, 35.6]],\n",
    "    ['Poland', [50, 50, 53.6, 57.2, 55.4, 55.4]]\n",
    "]\n",
    "\n",
    "# Подсчитываем кол-во стран. Полученное кол-во будем использовать в цикле\n",
    "number_of_countries = len(countries_temperature)\n",
    "\n",
    "for i in range(number_of_countries):\n",
    "    # количество записей с температурами:\n",
    "    kolvo_zap = len(countries_temperature[i][1])\n",
    "    # сумма записей:\n",
    "    summa_chisel = sum(countries_temperature[i][1])\n",
    "    # находим среднее:\n",
    "    srednee = summa_chisel / kolvo_zap\n",
    "    # конвертируем град. Фаренгейта в град. Цельсия:\n",
    "    perevod_c = (srednee - 32) / 1.8\n",
    "    # округляем до одного символая после запятой:\n",
    "    okruglenie = round(perevod_c, 1)\n",
    "    \n",
    "    print(countries_temperature[i][0], ' - ', okruglenie, ' C')\n"
   ]
  },
  {
   "cell_type": "markdown",
   "metadata": {},
   "source": [
    "#### Вопрос к заданию № 4"
   ]
  },
  {
   "cell_type": "markdown",
   "metadata": {},
   "source": [
    "Прошу подсказать каким образом можно записать значения в список?\n",
    "Меня интересуют 2 сценария:\n",
    "    1.[[Thailand, Germany, Russia, Poland], [23.9, 13.8, 3.7, 12.0]]\n",
    "    2.[23.9, 13.8, 3.7, 12.0]\n",
    "    \n",
    "Я попробовал применить методы:\n",
    "\n",
    "a = [i for i in range(7)], но либо не работает, либо выдаёт не те результаты"
   ]
  },
  {
   "cell_type": "code",
   "execution_count": null,
   "metadata": {
    "scrolled": true
   },
   "outputs": [],
   "source": [
    "# пример\n",
    "# если честно, то мне крайне сложно получать предсказуемый результат\n",
    "\n",
    "for i in range(number_of_countries):\n",
    "    primer = [sum(x) for x in countries_temperature[i][1]]\n",
    "    print(primer)"
   ]
  },
  {
   "cell_type": "code",
   "execution_count": null,
   "metadata": {},
   "outputs": [],
   "source": []
  }
 ],
 "metadata": {
  "kernelspec": {
   "display_name": "Python 3",
   "language": "python",
   "name": "python3"
  },
  "language_info": {
   "codemirror_mode": {
    "name": "ipython",
    "version": 3
   },
   "file_extension": ".py",
   "mimetype": "text/x-python",
   "name": "python",
   "nbconvert_exporter": "python",
   "pygments_lexer": "ipython3",
   "version": "3.8.5"
  }
 },
 "nbformat": 4,
 "nbformat_minor": 4
}
