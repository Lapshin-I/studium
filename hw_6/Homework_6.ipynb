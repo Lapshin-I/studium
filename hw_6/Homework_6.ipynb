{
 "cells": [
  {
   "cell_type": "markdown",
   "source": [
    "# Домашнее задание"
   ],
   "metadata": {}
  },
  {
   "cell_type": "markdown",
   "source": [
    "## Задание № 1"
   ],
   "metadata": {}
  },
  {
   "cell_type": "markdown",
   "source": [
    "Переведите содержимое файла purchase_log.txt в словарь purchases вида:\n",
    "{‘1840e0b9d4’: ‘Продукты’, …}"
   ],
   "metadata": {}
  },
  {
   "cell_type": "code",
   "execution_count": null,
   "source": [
    "# параметризация адреса папки:\n",
    "path = input('Укажите адрес папки: ')\n",
    "if path[-1] != '/':\n",
    "    folder_path = path+'/'\n",
    "else: \n",
    "    folder_path = path\n",
    "\n",
    "# путь к файлу:\n",
    "purchase_log_file_path = folder_path + 'purchase_log.txt'\n",
    "print(folder_path)\n",
    "\n",
    "# установка пакета:\n",
    "import json"
   ],
   "outputs": [],
   "metadata": {}
  },
  {
   "cell_type": "code",
   "execution_count": null,
   "source": [
    "# открываем файл:\n",
    "purchase_log_file = open(purchase_log_file_path, 'r')\n",
    "# создаём пустой словарь:\n",
    "purchases = {}\n",
    "# создаём цикл для наполнения словаря:\n",
    "for line in purchase_log_file:\n",
    "    # распознаём json корректно:\n",
    "    line_dict = json.loads(line)\n",
    "    # извлекаем values из словаря и переводим в список:\n",
    "    v_line_list = list(line_dict.values())\n",
    "    # извлекаем записи, которые будут ключами:\n",
    "    k = v_line_list[0]\n",
    "    # извлекаем записи, которые будут значениями:\n",
    "    v = v_line_list[1]\n",
    "    # создаём словарь из ключей и значений:\n",
    "    purchases[k] = v\n",
    "\n",
    "# закрываем файл:\n",
    "purchase_log_file.close()"
   ],
   "outputs": [],
   "metadata": {}
  },
  {
   "cell_type": "code",
   "execution_count": null,
   "source": [
    "# открываем файл:\n",
    "purchase_log_file = open(purchase_log_file_path, 'r')\n",
    "# создаём пустой словарь:\n",
    "purchases = {}\n",
    "# создаём цикл для наполнения словаря:\n",
    "for line in purchase_log_file:\n",
    "    # распознаём json корректно:\n",
    "    line_dict = json.loads(line)\n",
    "    # извлекаем values из словаря и переводим в список:\n",
    "    v_line_list = list(line_dict.values())\n",
    "    # извлекаем записи, которые будут ключами:\n",
    "    k = v_line_list[0]\n",
    "    # извлекаем записи, которые будут значениями:\n",
    "    v = v_line_list[1]\n",
    "    # создаём словарь из ключей и значений:\n",
    "    purchases[k] = v\n",
    "\n",
    "# закрываем файл:\n",
    "purchase_log_file.close()"
   ],
   "outputs": [],
   "metadata": {}
  },
  {
   "cell_type": "code",
   "execution_count": null,
   "source": [
    "# проверка результата\n",
    "purchases"
   ],
   "outputs": [],
   "metadata": {}
  },
  {
   "cell_type": "markdown",
   "source": [
    "## Задание № 2"
   ],
   "metadata": {}
  },
  {
   "cell_type": "markdown",
   "source": [
    "* Для каждого user_id в файле visit_log.csv определите третий столбец с категорией покупки (если покупка была, сам файл visit_log.csv изменять не надо)\n",
    "* Запишите в файл funnel.csv визиты из файла visit_log.csv, в которых были покупки с указанием категории."
   ],
   "metadata": {}
  },
  {
   "cell_type": "code",
   "execution_count": null,
   "source": [
    "# путь к файлам:\n",
    "visit_log_file_path = folder_path + 'visit_log.csv'\n",
    "funnel_file_path = folder_path + 'funnel.csv'\n",
    "print(visit_log_file_path)\n",
    "print(funnel_file_path)"
   ],
   "outputs": [],
   "metadata": {}
  },
  {
   "cell_type": "code",
   "execution_count": null,
   "source": [
    "# открываем файл для чтения:\n",
    "with open(visit_log_file_path, 'r') as visit_log_file:\n",
    "    # создаём файл для записи:\n",
    "    with open(funnel_file_path, 'w') as funnel_file:\n",
    "        # запускаем цикл для построчной обработки:\n",
    "        for line in visit_log_file:\n",
    "            # создаём переменную, которая перезаписывается\n",
    "            # с каждым циклом:\n",
    "            visits = {}\n",
    "            # разделяем ключи и значения по разным переменным:\n",
    "            k, v = line.strip().split(',')\n",
    "            # если ключи совпадают:\n",
    "            if k in purchases.keys():\n",
    "                # то делам запись в словарь:\n",
    "                visits[k] = v, purchases[k]\n",
    "                result = json.dumps(visits)\n",
    "                # при записи добавляем перенос строки:\n",
    "                funnel_file.write(result + '\\n')\n",
    "\n",
    "    # закрываем файлы:\n",
    "        funnel_file.close()\n",
    "    visit_log_file.close()"
   ],
   "outputs": [],
   "metadata": {}
  },
  {
   "cell_type": "markdown",
   "source": [
    "### Проверка:"
   ],
   "metadata": {}
  },
  {
   "cell_type": "code",
   "execution_count": null,
   "source": [
    "with open(funnel_file_path, 'r') as visit_log_file:\n",
    "    i = 0\n",
    "    for line in visit_log_file:\n",
    "        j = json.loads(line)\n",
    "        print(j)\n",
    "        i += 1\n",
    "        if i > 10:\n",
    "            break"
   ],
   "outputs": [],
   "metadata": {}
  }
 ],
 "metadata": {
  "orig_nbformat": 4,
  "language_info": {
   "name": "python",
   "version": "3.8.5",
   "mimetype": "text/x-python",
   "codemirror_mode": {
    "name": "ipython",
    "version": 3
   },
   "pygments_lexer": "ipython3",
   "nbconvert_exporter": "python",
   "file_extension": ".py"
  },
  "kernelspec": {
   "name": "python3",
   "display_name": "Python 3.8.5 64-bit ('base': conda)"
  },
  "interpreter": {
   "hash": "99256ce6b484b4f9761b8dc18a414afe394c5f405f679380d8c6ac5f2c7658bc"
  }
 },
 "nbformat": 4,
 "nbformat_minor": 2
}