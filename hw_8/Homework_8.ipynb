{
 "cells": [
  {
   "cell_type": "markdown",
   "metadata": {},
   "source": [
    "# Домашнее задание"
   ]
  },
  {
   "cell_type": "markdown",
   "metadata": {},
   "source": [
    "## Задание № 1\n",
    "Напишите функцию, которая возвращает название валюты (поле ‘Name’) с максимальным значением курса с помощью сервиса www.cbr-xml-daily.ru...ly_json.js\n"
   ]
  },
  {
   "cell_type": "code",
   "execution_count": 8,
   "metadata": {},
   "outputs": [],
   "source": [
    "import requests"
   ]
  },
  {
   "cell_type": "code",
   "execution_count": 113,
   "metadata": {},
   "outputs": [],
   "source": [
    "def currency_max_value():\n",
    "    # отправляем запрос на сайт:\n",
    "    get_r = requests.get('https://www.cbr-xml-daily.ru/daily_json.js')\n",
    "    # обрабатываем ответ:\n",
    "    request_result = get_r.json()\n",
    "    request_result \n",
    "    max_currency_value = float(\"-inf\")\n",
    "    for item, value in request_result.items():\n",
    "        # item - содержит названия пунктов первого уровня\n",
    "        # value - содержит значения для пунктов первого уровня\n",
    "        # далее действия выполняются для 'Valute':\n",
    "        if item == 'Valute':\n",
    "            # print(item)\n",
    "            for currency, info in value.items():\n",
    "                # currency - сокращённое наименование валюты\n",
    "                # info - атрибуты валюты\n",
    "                currency_name = info['Name'] # имя валюты\n",
    "                currency_value = info['Value'] # валюта в руб.\n",
    "                \n",
    "                # находим максимальную валюту:\n",
    "                if currency_value > max_currency_value:\n",
    "                    max_currency_value = currency_value\n",
    "\n",
    "    print(max_currency_value, currency_name)"
   ]
  },
  {
   "cell_type": "code",
   "execution_count": 114,
   "metadata": {},
   "outputs": [
    {
     "name": "stdout",
     "output_type": "stream",
     "text": [
      "101.9217 Японских иен\n"
     ]
    }
   ],
   "source": [
    "a = currency_max_value()\n",
    "a"
   ]
  },
  {
   "cell_type": "markdown",
   "metadata": {},
   "source": [
    "## Задание 2\n",
    "Добавьте в класс Rate параметр diff (со значениями True или False), который в случае значения True в методах курсов валют (eur, usd итд) будет возвращать не курс валюты, а изменение по сравнению в прошлым значением. Считайте, self.diff будет принимать значение True только при возврате значения курса. При отображении всей информации о валюте он не используется."
   ]
  },
  {
   "cell_type": "code",
   "execution_count": 36,
   "metadata": {},
   "outputs": [],
   "source": [
    "class Rate:\n",
    "    # создаём метод \"конструктор класса\" или \"конструктор объектов класса\".\n",
    "    # конструктор класса - автоматически вызывается при создании объекта\n",
    "    # он содержит основные атрибуты / переменные / парамерты:\n",
    "    def __init__(\n",
    "            self,                   # указывает на экземпляр самого объекта\n",
    "            format_ = 'value',      # value - возвращает только значение, # full - возвращает всю инф. по валюте\n",
    "            diff = 'False'          # False - возвращает текущий курс, True - возвращает разницу между периодами\n",
    "            ):\n",
    "        self.format = format_\n",
    "        self.diff_attribute = diff\n",
    "\n",
    "    # создаём метод, который подключается к источнику данных и возвращает инф. по всем валютам:\n",
    "    def exchange_rates(self):\n",
    "        \"\"\"\n",
    "        Возвращает ответ сервиса с информацией о валютах в виде:\n",
    "        \n",
    "        {\n",
    "            'AMD': {\n",
    "                'CharCode': 'AMD',\n",
    "                'ID': 'R01060',\n",
    "                'Name': 'Армянских драмов',\n",
    "                'Nominal': 100,\n",
    "                'NumCode': '051',\n",
    "                'Previous': 14.103,\n",
    "                'Value': 14.0879\n",
    "                },\n",
    "            ...\n",
    "        }\n",
    "        \"\"\"\n",
    "        self.r = requests.get('https://www.cbr-xml-daily.ru/daily_json.js')\n",
    "        return self.r.json()['Valute']\n",
    "    \n",
    "    # создаём метод, в котором регулируется формат вывода данных по любой валюте:\n",
    "    def make_format(\n",
    "            self,       \n",
    "            currency    # валюта, которую указал пользователь\n",
    "            ):\n",
    "        \"\"\"\n",
    "        Возвращает информацию о валюте currency в двух вариантах:\n",
    "        - полная информация о валюте при self.format = 'full':\n",
    "        Rate('full').make_format('EUR')\n",
    "        {\n",
    "            'CharCode': 'EUR',\n",
    "            'ID': 'R01239',\n",
    "            'Name': 'Евро',\n",
    "            'Nominal': 1,\n",
    "            'NumCode': '978',\n",
    "            'Previous': 79.6765,\n",
    "            'Value': 79.4966\n",
    "        }\n",
    "        \n",
    "        Rate('value').make_format('EUR')\n",
    "        79.4966\n",
    "        \"\"\"\n",
    "        \n",
    "        # переменная с результатом ответа сервиса:\n",
    "        response = self.exchange_rates()\n",
    "        # переменная с полным описанием валюты:\n",
    "        currency_full_value = response[currency]\n",
    "        # переменная со значением валюты:\n",
    "        currency_value = response[currency]['Value']\n",
    "        # переменная со значением валюты предыдущего периода:\n",
    "        previous_period_currency_value = response[currency]['Previous']\n",
    "        # переменная с разницей текущего курса и предыдущего:\n",
    "        exchange_rate_diff = currency_value - previous_period_currency_value\n",
    "        \n",
    "        # если код валюты имеется в запросе\n",
    "        if currency in response:\n",
    "            \n",
    "            # если пользователь захотел увидеть всю информацию\n",
    "            if self.format == 'full':\n",
    "                # венуть полное описание запрошенной валюты\n",
    "                return currency_full_value\n",
    "                \n",
    "            # если пользователь хочет увидеть только значение курса\n",
    "            if self.format == 'value':\n",
    "                # и разницу между текущим и прошлым периодом\n",
    "                if self.diff_attribute == 'True':\n",
    "                    # вернуть сравнение курса по валюте\n",
    "                   return exchange_rate_diff\n",
    "                # наверное пользователь хочет просто курс валюты:\n",
    "                else: return currency_value\n",
    "        \n",
    "        return 'Error'\n",
    "\n",
    "    # ниже создаются методы, которые настроены на возврат данных по конкретной валюте:\n",
    "    def eur(self):\n",
    "        \"\"\"Возвращает курс евро на сегодня в формате self.format\"\"\"\n",
    "        return self.make_format('EUR')\n",
    "    \n",
    "    def usd(self, diff = 'False'):\n",
    "        \"\"\"Возвращает курс доллара на сегодня в формате self.format\"\"\"\n",
    "        return self.make_format('USD')\n",
    "    \n",
    "    def brl(self, diff = 'False'):\n",
    "        \"\"\"Возвращает курс бразильского реала на сегодня в формате self.format\"\"\"\n",
    "        return self.make_format('BRL')"
   ]
  },
  {
   "cell_type": "code",
   "execution_count": 118,
   "metadata": {},
   "outputs": [],
   "source": [
    "# подключаемся к классу -> создаём объект:\n",
    "r = Rate(format_='value', diff = 'True') "
   ]
  },
  {
   "cell_type": "code",
   "execution_count": 119,
   "metadata": {},
   "outputs": [
    {
     "data": {
      "text/plain": [
       "0.1595000000000084"
      ]
     },
     "execution_count": 119,
     "metadata": {},
     "output_type": "execute_result"
    }
   ],
   "source": [
    "# смотрим изменение курса относительно прошлого периода:\n",
    "r.make_format(currency='USD')"
   ]
  },
  {
   "cell_type": "code",
   "execution_count": 120,
   "metadata": {},
   "outputs": [
    {
     "data": {
      "text/plain": [
       "0.1595000000000084"
      ]
     },
     "execution_count": 120,
     "metadata": {},
     "output_type": "execute_result"
    }
   ],
   "source": [
    "r.usd()"
   ]
  },
  {
   "cell_type": "markdown",
   "metadata": {},
   "source": [
    "## Задание 3\n",
    "Напишите класс Designer, который учитывает количество международных премий для дизайнеров (из презентации: “Повышение на 1 грейд за каждые 7 баллов. Получение международной премии – это +2 балла”). Считайте, что при выходе на работу сотрудник уже имеет две премии и их количество не меняется со стажем (конечно если хотите это можно вручную менять).\n",
    "\n",
    "Класс Designer пишется по аналогии с классом Developer из материалов занятия."
   ]
  },
  {
   "cell_type": "markdown",
   "metadata": {},
   "source": [
    "Разбор условий:\n",
    " - На работу берут только тех дизайнеров, у которых есть 2 международные премии = 4 балла;\n",
    " - Получение международной премии = +2 балла;\n",
    " - Прохождение сертификации = +1 балл;\n",
    " - Каждый седьмой балл = повышение грейда."
   ]
  },
  {
   "cell_type": "code",
   "execution_count": 107,
   "metadata": {},
   "outputs": [],
   "source": [
    "# Родитеслький класс \"Сотрудник\"\n",
    "class Employee:\n",
    "    def __init__(\n",
    "            self,           # указывает на экземпляр самого объекта\n",
    "            name,           # имя сотрудника\n",
    "            seniority,      # стаж в баллах\n",
    "            ):\n",
    "        \n",
    "        self.name = name\n",
    "        self.seniority = seniority\n",
    "        self.grade = 1      # значение грейда по умолчанию \n",
    "    \n",
    "    def grade_up(self):\n",
    "        \"\"\"Повышает уровень сотрудника\"\"\"\n",
    "        self.grade += 1\n",
    "    \n",
    "    def publish_grade(self):\n",
    "        \"\"\"Публикация результатов аккредитации сотрудников\"\"\"\n",
    "        print(self.name, self.grade)\n",
    "\n",
    "    # метод для просмотра кол-ва баллов сотрудника:\n",
    "    def publish_seniority(self):\n",
    "        \"\"\"Публикация количества баллов сотрудника\"\"\"\n",
    "        print(self.name, self.seniority)\n",
    "\n",
    "    # метод для просмотра греда и кол-ва баллов сотрудника:\n",
    "    def publish_employee_info(self):\n",
    "        \"\"\"Публикация грейда и количества баллов сотрудника\"\"\"\n",
    "        print(\"Имя: \" + str(self.name) + \"; Баллы: \" + str(self.seniority) + \"; Грейд: \" + str(self.grade))\n",
    "\n",
    "    def check_if_it_is_time_for_upgrade(self):\n",
    "        pass"
   ]
  },
  {
   "cell_type": "code",
   "execution_count": 108,
   "metadata": {},
   "outputs": [],
   "source": [
    "# Для каждого отдела заводится свой класс\n",
    "class Designer(Employee):\n",
    "    # создаём метод, который будет наследовать класс:\n",
    "    def __init__ (\n",
    "            self,\n",
    "            name,\n",
    "            seniotiry = 4   # 4 балла на старте, т.к. устраивают только тех, у кого 2 премии\n",
    "            ):\n",
    "        # вызываем метод __init__ класса Employee:\n",
    "        super().__init__(name, seniotiry)\n",
    "\n",
    "    # метод, для повышения балла за пройденную аккредитацию:\n",
    "    def employee_has_been_accredited(self):\n",
    "        \"\"\"\n",
    "        Начисление 1-го балла сотруднику за пройденную аккредитацию.\n",
    "        Если количество баллов будет достаточным - грейд будет повышен.\n",
    "        \"\"\"\n",
    "        # повышение балла\n",
    "        self.seniority += 1\n",
    "\n",
    "        # повышение грейда, если достаточно баллов:\n",
    "        if self.seniority % 7 == 0:\n",
    "            self.grade_up()\n",
    "        # публикация результатов\n",
    "        return self.publish_employee_info()  \n",
    "\n",
    "    # метод, для повышения балла за международную премию:\n",
    "    def employee_has_got_international_award(self):\n",
    "        \"\"\"\n",
    "        Начисление 2-х баллов сотруднику за за международную премию.\n",
    "        Если количество баллов будет достаточным - грейд будет повышен.\n",
    "        \"\"\"\n",
    "        # повышение балла\n",
    "        self.seniority += 2\n",
    "\n",
    "        # повышение грейда, если достаточно баллов:\n",
    "        if self.seniority % 7 == 0:\n",
    "            self.grade_up()\n",
    "        # публикация результатов\n",
    "        return self.publish_employee_info()   \n"
   ]
  },
  {
   "cell_type": "code",
   "execution_count": 109,
   "metadata": {},
   "outputs": [],
   "source": [
    "Alex = Designer('Александр Пушкин')"
   ]
  },
  {
   "cell_type": "code",
   "execution_count": 110,
   "metadata": {},
   "outputs": [
    {
     "name": "stdout",
     "output_type": "stream",
     "text": [
      "Имя: Александр Пушкин; Баллы: 4; Грейд: 1\n"
     ]
    }
   ],
   "source": [
    "Alex.publish_employee_info()"
   ]
  },
  {
   "cell_type": "code",
   "execution_count": 111,
   "metadata": {},
   "outputs": [
    {
     "name": "stdout",
     "output_type": "stream",
     "text": [
      "Имя: Александр Пушкин; Баллы: 5; Грейд: 1\n",
      "Имя: Александр Пушкин; Баллы: 6; Грейд: 1\n",
      "Имя: Александр Пушкин; Баллы: 7; Грейд: 2\n"
     ]
    }
   ],
   "source": [
    "# проверка. словно сотрудник 3 раза прошёл аккредитацию:\n",
    "for i in range(3):\n",
    "    Alex.employee_has_been_accredited()"
   ]
  },
  {
   "cell_type": "code",
   "execution_count": 112,
   "metadata": {},
   "outputs": [
    {
     "name": "stdout",
     "output_type": "stream",
     "text": [
      "Имя: Александр Пушкин; Баллы: 9; Грейд: 2\n",
      "Имя: Александр Пушкин; Баллы: 11; Грейд: 2\n",
      "Имя: Александр Пушкин; Баллы: 13; Грейд: 2\n"
     ]
    }
   ],
   "source": [
    "# проверка. словно сотрудник 2 раза получил медународную премию:\n",
    "for i in range(3):\n",
    "    Alex.employee_has_got_international_award()"
   ]
  }
 ],
 "metadata": {
  "interpreter": {
   "hash": "edf72fecd2f8f7465faa8e2b6b0f77dc36bfd5180406b2b2f000eb58cd98d48a"
  },
  "kernelspec": {
   "display_name": "Python 3.8.5 64-bit ('base': conda)",
   "name": "python3"
  },
  "language_info": {
   "codemirror_mode": {
    "name": "ipython",
    "version": 3
   },
   "file_extension": ".py",
   "mimetype": "text/x-python",
   "name": "python",
   "nbconvert_exporter": "python",
   "pygments_lexer": "ipython3",
   "version": "3.8.5"
  },
  "orig_nbformat": 4
 },
 "nbformat": 4,
 "nbformat_minor": 2
}
